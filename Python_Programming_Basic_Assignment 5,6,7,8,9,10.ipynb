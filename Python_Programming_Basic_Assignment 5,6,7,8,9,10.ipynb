{
 "cells": [
  {
   "cell_type": "markdown",
   "metadata": {},
   "source": [
    "# Python_Programming_Basic_Assignment5"
   ]
  },
  {
   "cell_type": "code",
   "execution_count": 3,
   "metadata": {},
   "outputs": [
    {
     "name": "stdout",
     "output_type": "stream",
     "text": [
      "Enter the First Value a: 5\n",
      "Enter the Second Value b: 3\n",
      "\n",
      "LCM of 5.0 and 3.0 = 15.0\n"
     ]
    }
   ],
   "source": [
    "#1 Write a Python Program to Find LCM?\n",
    "\n",
    "def lcm():\n",
    "    try:\n",
    "        a = float(input(\"Enter the First Value a: \"))\n",
    "        b = float(input(\"Enter the Second Value b: \"))\n",
    "        if(a > b):\n",
    "            maximum = a\n",
    "        else:\n",
    "            maximum = b\n",
    "        while(True):\n",
    "            if(maximum % a == 0 and maximum % b == 0):\n",
    "                print(\"\\nLCM of {0} and {1} = {2}\".format(a, b, maximum))\n",
    "                break;\n",
    "            maximum = maximum + 1\n",
    "    except Exception as e:\n",
    "        print('Error found ',e)\n",
    "lcm()"
   ]
  },
  {
   "cell_type": "code",
   "execution_count": 8,
   "metadata": {},
   "outputs": [
    {
     "name": "stdout",
     "output_type": "stream",
     "text": [
      "Enter first number:15\n",
      "Enter Second Number:20\n",
      "The HCF of given numbers: 5\n"
     ]
    }
   ],
   "source": [
    "#2 Write a Python Program to Find HCF?\n",
    "\n",
    "def hcf():\n",
    "    try:\n",
    "        num1 = int(input(\"Enter first number:\"))\n",
    "        num2 = int(input(\"Enter Second Number:\"))\n",
    "        a = []\n",
    "        if num1 > num2:\n",
    "            smaller = num2\n",
    "        else:\n",
    "            smaller = num1\n",
    "        for i in range(1,smaller+1):\n",
    "            if (num1 % i == 0) and (num2 % i == 0):\n",
    "                a.append(i)\n",
    "        print(\"The HCF of given numbers: {}\".format(max(a)))\n",
    "    except Exception as e:\n",
    "        print('Error found ',e)\n",
    "        \n",
    "hcf()"
   ]
  },
  {
   "cell_type": "code",
   "execution_count": 12,
   "metadata": {},
   "outputs": [
    {
     "name": "stdout",
     "output_type": "stream",
     "text": [
      "Enter a number: 10\n",
      "The decimal value of 10 is:\n",
      "in binary:  0b1010\n",
      "in octal:  0o12\n",
      "in hexadecimal:  0xa\n"
     ]
    }
   ],
   "source": [
    "#3 Write a Python Program to Convert Decimal to Binary, Octal and Hexadecimal?\n",
    "\n",
    "def dec_to_boh():\n",
    "    try:\n",
    "        a=int(input('Enter a number: '))\n",
    "        print(\"The decimal value of\", a, \"is:\")\n",
    "        print(\"in binary: \",bin(a))\n",
    "        print(\"in octal: \",oct(a))\n",
    "        print(\"in hexadecimal: \",hex(a))\n",
    "    except Exception as e:\n",
    "        print('Error found',e)\n",
    "        \n",
    "dec_to_boh()"
   ]
  },
  {
   "cell_type": "code",
   "execution_count": 16,
   "metadata": {},
   "outputs": [
    {
     "name": "stdout",
     "output_type": "stream",
     "text": [
      "Enter any character: K\n",
      "The ASCII value of given character K is:  75\n"
     ]
    }
   ],
   "source": [
    "#4 Write a Python Program To Find ASCII value of a character?\n",
    "\n",
    "def ascii():\n",
    "    try:\n",
    "        char = input(\"Enter any character: \")\n",
    "        print(\"The ASCII value of given character \" + char + \" is: \",ord(char))\n",
    "    except Exception as e:\n",
    "        print('Error found',e)\n",
    "ascii()"
   ]
  },
  {
   "cell_type": "code",
   "execution_count": 18,
   "metadata": {},
   "outputs": [
    {
     "name": "stdout",
     "output_type": "stream",
     "text": [
      "Select operation.\n",
      "1.Add\n",
      "2.Subtract\n",
      "3.Multiply\n",
      "4.Divide\n",
      "Enter choice(1/2/3/4): 1\n",
      "Enter first number: 5\n",
      "Enter second number: 5\n",
      "5.0 + 5.0 = 10.0\n",
      "Let's do next calculation? (yes/no): yes\n",
      "Enter choice(1/2/3/4): 4\n",
      "Enter first number: 5\n",
      "Enter second number: 1\n",
      "5.0 / 1.0 = 5.0\n",
      "Let's do next calculation? (yes/no): yes\n",
      "Enter choice(1/2/3/4): 4\n",
      "Enter first number: 5\n",
      "Enter second number: 0\n",
      "Error found float division by zero\n"
     ]
    }
   ],
   "source": [
    "#5 Write a Python Program to Make a Simple Calculator with 4 basic mathematical operations?\n",
    "\n",
    "def calculator():\n",
    "    try:\n",
    "        def add(x, y):\n",
    "            return x + y\n",
    "\n",
    "        def subtract(x, y):\n",
    "            return x - y\n",
    "\n",
    "        def multiply(x, y):\n",
    "            return x * y\n",
    "\n",
    "        def divide(x, y):\n",
    "            return x / y\n",
    "\n",
    "        print(\"Select operation.\")\n",
    "        print(\"1.Add\")\n",
    "        print(\"2.Subtract\")\n",
    "        print(\"3.Multiply\")\n",
    "        print(\"4.Divide\")\n",
    "\n",
    "        while True:\n",
    "            choice = input(\"Enter choice(1/2/3/4): \")\n",
    "\n",
    "            if choice in ('1', '2', '3', '4'):\n",
    "                num1 = float(input(\"Enter first number: \"))\n",
    "                num2 = float(input(\"Enter second number: \"))\n",
    "\n",
    "                if choice == '1':\n",
    "                    print(num1, \"+\", num2, \"=\", add(num1, num2))\n",
    "\n",
    "                elif choice == '2':\n",
    "                    print(num1, \"-\", num2, \"=\", subtract(num1, num2))\n",
    "\n",
    "                elif choice == '3':\n",
    "                    print(num1, \"*\", num2, \"=\", multiply(num1, num2))\n",
    "\n",
    "                elif choice == '4':\n",
    "                    print(num1, \"/\", num2, \"=\", divide(num1, num2))\n",
    "\n",
    "                next_calculation = input(\"Let's do next calculation? (yes/no): \")\n",
    "                if next_calculation == \"no\":\n",
    "                    break\n",
    "\n",
    "            else:\n",
    "                print(\"Invalid Input\")\n",
    "    except Exception as e:\n",
    "        print('Error found',e)\n",
    "calculator()"
   ]
  },
  {
   "cell_type": "markdown",
   "metadata": {},
   "source": [
    "# Python_Programming_Basic_Assignment6"
   ]
  },
  {
   "cell_type": "code",
   "execution_count": 34,
   "metadata": {},
   "outputs": [
    {
     "name": "stdout",
     "output_type": "stream",
     "text": [
      "Enter number: 10\n",
      "Fibonacci sequence:\n",
      "0\n",
      "1\n",
      "1\n",
      "2\n",
      "3\n",
      "5\n",
      "8\n",
      "13\n",
      "21\n",
      "34\n"
     ]
    }
   ],
   "source": [
    "#1 Write a Python Program to Display Fibonacci Sequence Using Recursion?\n",
    "\n",
    "def fib_rec(n):\n",
    "    if n <= 1:\n",
    "        return n\n",
    "    else:\n",
    "        return(fib_rec(n-1) + fib_rec(n-2))\n",
    "\n",
    "try:\n",
    "    a=int(input('Enter number: '))\n",
    "    if nterms <= 0:\n",
    "        print(\"Plese enter a positive integer\")\n",
    "    else:\n",
    "        print(\"Fibonacci sequence:\")\n",
    "        for i in range(a):\n",
    "            print(fib_rec(i))\n",
    "except Exception as e:\n",
    "    print('Error found',e)"
   ]
  },
  {
   "cell_type": "code",
   "execution_count": 40,
   "metadata": {},
   "outputs": [
    {
     "name": "stdout",
     "output_type": "stream",
     "text": [
      "Ener number: 5\n",
      "The factorial of 5 is 120\n"
     ]
    }
   ],
   "source": [
    "#2 Write a Python Program to Find Factorial of Number Using Recursion?\n",
    "\n",
    "# Factorial of a number using recursion\n",
    "\n",
    "def recur_factorial(n):\n",
    "    if n == 1:\n",
    "        return n\n",
    "    else:\n",
    "        return n*recur_factorial(n-1)\n",
    "try:\n",
    "    a=int(input('Ener number: '))\n",
    "    # check if the number is negative\n",
    "    if a < 0:\n",
    "        print(\"Sorry, factorial does not exist for negative numbers\")\n",
    "    elif a == 0:\n",
    "        print(\"The factorial of 0 is 1\")\n",
    "    else:\n",
    "        print(\"The factorial of\", a, \"is\", recur_factorial(a))\n",
    "except Exception as e:\n",
    "    print('Error found',e)"
   ]
  },
  {
   "cell_type": "code",
   "execution_count": 42,
   "metadata": {},
   "outputs": [
    {
     "name": "stdout",
     "output_type": "stream",
     "text": [
      "Enter your height in Feet: 5\n",
      "Enter your weight in Kilogram: 55\n",
      "Your body mass index is:  2.2\n"
     ]
    }
   ],
   "source": [
    "#3 Write a Python Program to calculate your Body Mass Index?\n",
    "\n",
    "def bmi():\n",
    "    try:\n",
    "        height = float(input(\"Enter your height in Feet: \"))\n",
    "        weight = float(input(\"Enter your weight in Kilogram: \"))\n",
    "        x=round(weight / (height * height), 2)\n",
    "        print(\"Your body mass index is: \",x)\n",
    "    except Exception as e:\n",
    "        print('Error found',e)\n",
    "\n",
    "bmi()        "
   ]
  },
  {
   "cell_type": "code",
   "execution_count": 44,
   "metadata": {},
   "outputs": [
    {
     "name": "stdout",
     "output_type": "stream",
     "text": [
      "Enter number: 10\n",
      "2.302585092994046\n"
     ]
    }
   ],
   "source": [
    "# 4 Write a Python Program to calculate the natural logarithm of any number?\n",
    "\n",
    "import math\n",
    "def nat_log():\n",
    "    try:\n",
    "        a=int(input('Enter number: '))\n",
    "        print(math.log(a))\n",
    "    except Exception as e:\n",
    "        print('Error found',e)\n",
    "\n",
    "nat_log()"
   ]
  },
  {
   "cell_type": "code",
   "execution_count": 46,
   "metadata": {},
   "outputs": [
    {
     "name": "stdout",
     "output_type": "stream",
     "text": [
      "Enter number: 5\n",
      "225\n"
     ]
    }
   ],
   "source": [
    "#5 Write a Python Program for cube sum of first n natural numbers?\n",
    "\n",
    "def cube_fnnn(n):\n",
    "    sum = 0\n",
    "    for i in range(1, n+1):\n",
    "        sum +=i*i*i\n",
    "\n",
    "    return sum\n",
    "\n",
    "\n",
    "try:\n",
    "    n=int(input('Enter number: '))\n",
    "    print(cube_fnnn(n))\n",
    "except Exception as e:\n",
    "    print('Error found',e)"
   ]
  },
  {
   "cell_type": "markdown",
   "metadata": {},
   "source": [
    "# Python_Programming_Basic_Assignment7"
   ]
  },
  {
   "cell_type": "code",
   "execution_count": 51,
   "metadata": {},
   "outputs": [
    {
     "name": "stdout",
     "output_type": "stream",
     "text": [
      "20\n"
     ]
    }
   ],
   "source": [
    "#1 Write a Python Program to find sum of array?\n",
    "\n",
    "def sum_of_array(n):\n",
    "    \n",
    "    num=0\n",
    "    for i in n:\n",
    "        num=num+i\n",
    "    print(num)\n",
    "        \n",
    "sum_of_array(n=[1,2,3,4,5,5])"
   ]
  },
  {
   "cell_type": "code",
   "execution_count": 59,
   "metadata": {},
   "outputs": [
    {
     "name": "stdout",
     "output_type": "stream",
     "text": [
      "Largest element given in array is 105\n"
     ]
    }
   ],
   "source": [
    "#2 Write a Python Program to find largest element in an array?\n",
    "\n",
    "def lar_ele_arr(arr,n):\n",
    "    \n",
    "    max = arr[0]\n",
    "    for i in range(1, n):\n",
    "        if arr[i] > max:\n",
    "            max = arr[i]\n",
    "    return max\n",
    "\n",
    "arr = [23,1,32,105,67,2,34,12,99]\n",
    "n = len(arr)\n",
    "a=lar_ele_arr(arr,n)\n",
    "print (\"Largest element given in array is\",a)"
   ]
  },
  {
   "cell_type": "code",
   "execution_count": 67,
   "metadata": {},
   "outputs": [
    {
     "name": "stdout",
     "output_type": "stream",
     "text": [
      "Enter number of elements in the array: 7\n",
      "Enter elements of the array :\n",
      "11\n",
      "12\n",
      "13\n",
      "14\n",
      "15\n",
      "16\n",
      "17\n",
      "Enter the number of rotations: 5\n",
      "Initial Array : 11 12 13 14 15 16 17 \n",
      "Array after the rotation:  16 17 11 12 13 14 15 "
     ]
    }
   ],
   "source": [
    "#3 Write a Python Program for array rotation?\n",
    "\n",
    "# Function to rotate arrays in Python\n",
    "def rotateArrayLeft(arr, R, n):\n",
    "    for i in range(R):\n",
    "        firstVal = arr[0]\n",
    "        for i in range(n-1):\n",
    "            arr[i] = arr[i+1]\n",
    "        arr[n-1] = firstVal\n",
    "\n",
    "try:\n",
    "    arr = [1, 2, 3, 4, 5, 6, 7]\n",
    "    n = int(input(\"Enter number of elements in the array: \"))\n",
    "    arr = []\n",
    "    print(\"Enter elements of the array :\")\n",
    "    for i in range(n):\n",
    "        numbers = int(input())\n",
    "        arr.append(numbers)\n",
    "    R = int(input(\"Enter the number of rotations: \"))\n",
    " \n",
    "    print(\"Initial Array :\", end = \" \")\n",
    "    for i in range(n):\n",
    "        print (\"%d\"% arr[i],end=\" \")\n",
    " \n",
    "    rotateArrayLeft(arr, R, n)\n",
    "\n",
    "    print(\"\\nArray after the rotation: \", end = \" \")\n",
    "    for i in range(n):\n",
    "        print (\"%d\"% arr[i],end=\" \")\n",
    "except Exception as e:\n",
    "    print('Error found',e)"
   ]
  },
  {
   "cell_type": "code",
   "execution_count": 88,
   "metadata": {},
   "outputs": [
    {
     "name": "stdout",
     "output_type": "stream",
     "text": [
      "Enter number of part2\n",
      "5 6 52 36 12 10 "
     ]
    }
   ],
   "source": [
    "#4 Write a Python Program to Split the array and add the first part to the end?\n",
    "\n",
    "# Python program to split array and move first\n",
    "# part to end.\n",
    "\n",
    "def splitArr(arr, n, k):\n",
    "    for i in range(0, k):\n",
    "        x = arr[0]\n",
    "        for j in range(0, n-1):\n",
    "            arr[j] = arr[j + 1]\n",
    "    \n",
    "        arr[n-1] = x\n",
    "        \n",
    "try:\n",
    "    k=int(input('Enter number of part'))\n",
    "    arr = [12, 10, 5, 6, 52, 36]\n",
    "    n = len(arr)\n",
    "    splitArr(arr, n, k)\n",
    "\n",
    "    for i in range(0, n):\n",
    "        print(arr[i], end = ' ')\n",
    "except Exception as e:\n",
    "    print('Error found',e)\n",
    "\n"
   ]
  },
  {
   "cell_type": "code",
   "execution_count": 1,
   "metadata": {},
   "outputs": [
    {
     "name": "stdout",
     "output_type": "stream",
     "text": [
      "input size of the array :2\n",
      "input value for position 0 : 3\n",
      "input value for position 1 : 4\n",
      "Input array is Monotonic increasing\n"
     ]
    }
   ],
   "source": [
    "#5 Write a Python Program to check if given array is Monotonic?\n",
    "\n",
    "\n",
    "list_array = list()\n",
    "def is_Monotonic(A):\n",
    "    if all(A[i] <= A[i+1] for i in range (len(A)-1)):\n",
    "        return \"Monotonic increasing\"\n",
    "    elif all(A[i] >= A[i+1] for i in range (len(A)-1)):\n",
    "        return \"Monotonic decreasing\"\n",
    "    return \"not Monotonic array\"\n",
    "\n",
    "try:\n",
    "    n = int(input(\"input size of the array :\"))\n",
    "    for i in range(n):\n",
    "        s=int(input(\"input value for position {} : \".format(i)))\n",
    "        list_array.append(s)\n",
    "    print(\"Input array is \"+is_Monotonic(list_array))\n",
    "except Exception as e:\n",
    "    print('Error found',e)"
   ]
  },
  {
   "cell_type": "markdown",
   "metadata": {},
   "source": [
    "# Python_Programming_Basic_Assignment8"
   ]
  },
  {
   "cell_type": "code",
   "execution_count": 13,
   "metadata": {},
   "outputs": [
    {
     "name": "stdout",
     "output_type": "stream",
     "text": [
      "Enter the Number of rows : g\n",
      "Error found invalid literal for int() with base 10: 'g'\n"
     ]
    }
   ],
   "source": [
    "#1 Write a Python Program to Add Two Matrices?\n",
    "\n",
    "def add_mat():\n",
    "        print(\"Enter the elements of First Matrix:\")\n",
    "        matrix_a= [[int(input()) for i in range(column)] for i in range(rows)]\n",
    "        print(\"First Matrix is: \")\n",
    "\n",
    "        for n in matrix_a:\n",
    "            print(n)\n",
    "\n",
    "        print(\"Enter the elements of Second Matrix:\")\n",
    "        matrix_b= [[int(input()) for i in range(column)] for i in range(rows)]\n",
    "        for n in matrix_b:\n",
    "            print(n)\n",
    "\n",
    "        result=[[0 for i in range(column)] for i in range(rows)]\n",
    "\n",
    "        for i in range(rows):\n",
    "            for j in range(column):\n",
    "                result[i][j] = matrix_a[i][j]+matrix_b[i][j]\n",
    "\n",
    "        print(\"The Sum of Above two Matrices is : \")\n",
    "        for r in result:\n",
    "            print(r)\n",
    "try:\n",
    "    rows = int(input(\"Enter the Number of rows : \" ))\n",
    "    column = int(input(\"Enter the Number of Columns: \"))\n",
    "    add_mat()\n",
    "except Exception as e:\n",
    "    print('Error found',e)"
   ]
  },
  {
   "cell_type": "code",
   "execution_count": 17,
   "metadata": {},
   "outputs": [
    {
     "name": "stdout",
     "output_type": "stream",
     "text": [
      "Enter the Number of rows  for the first matrix: 2\n",
      "Enter the Number of Columns for the first matrix: 3\n",
      "Enter the elements of First Matrix:\n",
      "2\n",
      "3\n",
      "4\n",
      "5\n",
      "6\n",
      "3\n",
      "First Matrix is: \n",
      "[2, 3, 4]\n",
      "[5, 6, 3]\n",
      "Enter the Number of Columns for the second matrix: 3\n",
      "Enter the elements of Second Matrix:\n",
      "1\n",
      "2\n",
      "3\n",
      "4\n",
      "5\n",
      "5\n",
      "5\n",
      "6\n",
      "7\n",
      "[1, 2, 3]\n",
      "[4, 5, 5]\n",
      "[5, 6, 7]\n",
      "\n",
      "Matrix_a X Matrix_b is: \n",
      "[34, 43, 49]\n",
      "[44, 58, 66]\n"
     ]
    }
   ],
   "source": [
    "#2 Write a Python Program to Multiply Two Matrices?\n",
    "\n",
    "def mul_mat():\n",
    "    print(\"Enter the elements of First Matrix:\")\n",
    "    matrix_a= [[int(input()) for i in range(column_a)] for i in range(rows_a)]\n",
    "\n",
    "    print(\"First Matrix is: \")\n",
    "    for n in matrix_a:\n",
    "        print(n)\n",
    "    #the number of columns of first matrix is equal to the number of rows of second matrix\n",
    "    column_b = int(input(\"Enter the Number of Columns for the second matrix: \"))\n",
    "\n",
    "    print(\"Enter the elements of Second Matrix:\")\n",
    "\n",
    "    matrix_b= [[int(input()) for i in range(column_b)] for i in range(column_a)]\n",
    "    for n in matrix_b:\n",
    "        print(n)\n",
    "\n",
    "    result=[[0 for i in range(column_b)] for i in range(rows_a)]\n",
    "\n",
    "    for i in range(len(matrix_a)):\n",
    "        for j in range(len(matrix_b[0])):\n",
    "            for k in range(len(matrix_b)):\n",
    "                result [i][j]+=matrix_a[i][k]*matrix_b[k][j]\n",
    "    print(\"\\nMatrix_a X Matrix_b is: \")\n",
    "    for r in result:\n",
    "        print(r)\n",
    "        \n",
    "try:\n",
    "    rows_a = int(input(\"Enter the Number of rows  for the first matrix: \" ))\n",
    "    column_a = int(input(\"Enter the Number of Columns for the first matrix: \"))\n",
    "    mul_mat()\n",
    "except Exception as e:\n",
    "    print('Error found',e)"
   ]
  },
  {
   "cell_type": "code",
   "execution_count": 21,
   "metadata": {},
   "outputs": [
    {
     "name": "stdout",
     "output_type": "stream",
     "text": [
      "Enter the Number of rows : 3\n",
      "Enter the Number of Columns: 2\n",
      "Enter the elements of Matrix:\n",
      "2\n",
      "3\n",
      "4\n",
      "5\n",
      "6\n",
      "1\n",
      "-------Your  Matrix is---------\n",
      "[2, 3]\n",
      "[4, 5]\n",
      "[6, 1]\n",
      "Transpose matrix is: \n",
      "[2, 4, 6]\n",
      "[3, 5, 1]\n"
     ]
    }
   ],
   "source": [
    "#3 Write a Python Program to Transpose a Matrix?\n",
    "\n",
    "def trnp_mat():\n",
    "    print(\"Enter the elements of Matrix:\")\n",
    "    matrix= [[int(input()) for i in range(column)] for i in range(rows)]\n",
    "    print(\"-------Your  Matrix is---------\")\n",
    "    for n in matrix:\n",
    "        print(n)\n",
    "\n",
    "    #result matrix of column*row  dimension\n",
    "\n",
    "    result =[[0 for i in range(rows)] for j in range(column)]\n",
    "\n",
    "    #transpose the matrix\n",
    "    for r in range(rows):\n",
    "\n",
    "        for c in range(column):\n",
    "           #here we are grabbing the row data of matrix and putting it in the column on the result\n",
    "           result[c][r] = matrix[r][c]\n",
    "\n",
    "    print(\"Transpose matrix is: \")\n",
    "    for r in result:\n",
    "        print(r)\n",
    "\n",
    "try:\n",
    "    rows = int(input(\"Enter the Number of rows : \" ))\n",
    "    column = int(input(\"Enter the Number of Columns: \"))\n",
    "    trnp_mat()\n",
    "except Exception as e:\n",
    "    print('Error found',e)"
   ]
  },
  {
   "cell_type": "code",
   "execution_count": 56,
   "metadata": {},
   "outputs": [
    {
     "name": "stdout",
     "output_type": "stream",
     "text": [
      "Enter no. of words to enter: 5\n",
      "Enter the words xyz\n",
      "Enter the words lmn\n",
      "Enter the words abc\n",
      "Enter the words pqr\n",
      "Enter the words aa\n",
      "['aa', 'abc', 'lmn', 'pqr', 'xyz']\n"
     ]
    }
   ],
   "source": [
    "#4 Write a Python Program to Sort Words in Alphabetic Order?\n",
    "\n",
    "#str = [ 'bat', 'cat', 'hi', 'car', 'apple', 'computer' ]\n",
    "\n",
    "def sort_words():\n",
    "    list1=[]\n",
    "    for i in range(a):\n",
    "        x=input('Enter the words ')\n",
    "        list1.append(x)\n",
    "        list1.sort()\n",
    "    print(list1)\n",
    "\n",
    "try:\n",
    "    a=int(input('Enter no. of words to enter: '))\n",
    "    sort_words()\n",
    "except Exception as e:\n",
    "    print('Error found',e)"
   ]
  },
  {
   "cell_type": "code",
   "execution_count": 63,
   "metadata": {},
   "outputs": [
    {
     "name": "stdout",
     "output_type": "stream",
     "text": [
      "Enter a string: JFLKSDJL*SDJFLKJDS#*(*(DS%$JDJ&*\n",
      "Punctuation Free String:  JFLKSDJLSDJFLKJDSDSJDJ\n"
     ]
    }
   ],
   "source": [
    "#5 Write a Python Program to Remove Punctuation From a String?\n",
    "\n",
    "punctuations = '''!()-[]{};:'\"\\,<>./?@#$%^&*_~'''\n",
    " \n",
    "inp_str = input(\"Enter a string: \")\n",
    " \n",
    "no_punctuations = ''\n",
    "for char in inp_str:\n",
    "    if char not in punctuations:\n",
    "        no_punctuations = no_punctuations + char\n",
    " \n",
    "print(\"Punctuation Free String: \",no_punctuations)"
   ]
  },
  {
   "cell_type": "markdown",
   "metadata": {},
   "source": [
    "# Python_Programming_Basic_Assignment9"
   ]
  },
  {
   "cell_type": "code",
   "execution_count": 12,
   "metadata": {},
   "outputs": [
    {
     "name": "stdout",
     "output_type": "stream",
     "text": [
      "Enter num to find wheather it is Disarium or not175\n",
      "175 is a disarium number\n"
     ]
    }
   ],
   "source": [
    "#1 Write a Python program to check if the given number is a Disarium Number?\n",
    "\n",
    "def calculateLength(n):    \n",
    "    length = 0\n",
    "    while(n != 0):    \n",
    "        length = length + 1   \n",
    "        n = n//10    \n",
    "    return length    \n",
    "     \n",
    "try:\n",
    "    num = int(input('Enter num to find wheather it is Disarium or not'));\n",
    "except Exception as e:\n",
    "    print('error found',e)   \n",
    "\n",
    "    rem = sum = 0\n",
    "len = calculateLength(num)   \n",
    "x = num;    \n",
    "while(num > 0):    \n",
    "    rem = num%10    \n",
    "    sum = sum + int(rem**len) \n",
    "    num = num//10    \n",
    "    len = len - 1\n",
    "       \n",
    "if(sum == x):    \n",
    "    print(str(x) + \" is a disarium number\") \n",
    "else:    \n",
    "    print(str(x) + \" is not a disarium number\")  \n",
    "    \n"
   ]
  },
  {
   "cell_type": "code",
   "execution_count": 16,
   "metadata": {},
   "outputs": [
    {
     "name": "stdout",
     "output_type": "stream",
     "text": [
      "The disarium numbers between 1 and 100 are : \n",
      "1\n",
      "2\n",
      "3\n",
      "4\n",
      "5\n",
      "6\n",
      "7\n",
      "8\n",
      "9\n",
      "89\n"
     ]
    }
   ],
   "source": [
    "#2 Write a Python program to print all disarium numbers between 1 to 100?\n",
    "\n",
    "def length_calculation(my_val):\n",
    "    len_val = 0\n",
    "    while(my_val != 0):\n",
    "        len_val = len_val + 1\n",
    "        my_val = my_val//10\n",
    "    return len_val\n",
    "def digit_sum(my_num):\n",
    "    remaining = sum_val = 0\n",
    "    len_fun = length_calculation(my_num)\n",
    "    while(my_num > 0):\n",
    "        remaining = my_num%10\n",
    "        sum_val = sum_val + (remaining**len_fun)\n",
    "        my_num = my_num//10\n",
    "        len_fun = len_fun - 1\n",
    "    return sum_val\n",
    "ini_result = 0\n",
    "print(\"The disarium numbers between 1 and 100 are : \")\n",
    "for i in range(1, 101):\n",
    "    ini_result = digit_sum(i)\n",
    "    if(ini_result == i):\n",
    "        print(i)"
   ]
  },
  {
   "cell_type": "code",
   "execution_count": 20,
   "metadata": {},
   "outputs": [
    {
     "name": "stdout",
     "output_type": "stream",
     "text": [
      "Enter num to check wheater it is happy number or not50\n",
      "50 is not a happy number\n"
     ]
    }
   ],
   "source": [
    "#3 Write a Python program to check if the given number is Happy Number?\n",
    "\n",
    "def isHappyNumber(num):    \n",
    "    rem = sum = 0   \n",
    "        \n",
    "    #Calculates the sum of squares of digits    \n",
    "    while(num > 0):    \n",
    "        rem = num%10  \n",
    "        sum = sum + (rem*rem)   \n",
    "        num = num//10   \n",
    "    return sum;    \n",
    "try:    \n",
    "    num = int(input('Enter num to check wheater it is happy number or not'))  \n",
    "except Exception as e:\n",
    "    print('Error found',e)\n",
    "result = num;         \n",
    "while(result != 1 and result != 4):    \n",
    "    result = isHappyNumber(result)      \n",
    "if(result == 1):    \n",
    "    print(str(num) + \" is a happy number\")     \n",
    "elif(result == 4):    \n",
    "    print(str(num) + \" is not a happy number\")  "
   ]
  },
  {
   "cell_type": "code",
   "execution_count": 21,
   "metadata": {},
   "outputs": [
    {
     "name": "stdout",
     "output_type": "stream",
     "text": [
      "The list of happy numbers between 1 and 100 are : \n",
      "1\n",
      "7\n",
      "10\n",
      "13\n",
      "19\n",
      "23\n",
      "28\n",
      "31\n",
      "32\n",
      "44\n",
      "49\n",
      "68\n",
      "70\n",
      "79\n",
      "82\n",
      "86\n",
      "91\n",
      "94\n",
      "97\n",
      "100\n"
     ]
    }
   ],
   "source": [
    "#4 Write a Python program to print all happy numbers between 1 and 100?\n",
    "\n",
    "def check_happy_num(my_num):\n",
    "    remaining = sum_val = 0\n",
    "    while(my_num > 0):\n",
    "        remaining = my_num%10\n",
    "        sum_val = sum_val + (remaining*remaining)\n",
    "        my_num = my_num//10\n",
    "    return sum_val\n",
    "print(\"The list of happy numbers between 1 and 100 are : \")\n",
    "for i in range(1, 101):\n",
    "    my_result = i\n",
    "    while(my_result != 1 and my_result != 4):\n",
    "        my_result = check_happy_num(my_result)\n",
    "    if(my_result == 1):\n",
    "        print(i)"
   ]
  },
  {
   "cell_type": "code",
   "execution_count": 24,
   "metadata": {},
   "outputs": [
    {
     "name": "stdout",
     "output_type": "stream",
     "text": [
      "Enter number to find whether given number is harshad Number or not156\n",
      "156 is a harshad number\n"
     ]
    }
   ],
   "source": [
    "#5 Write a Python program to determine whether the given number is a Harshad Number?\n",
    "\n",
    "try:\n",
    "    num = int(input('Enter number to find whether given number is harshad Number or not'))\n",
    "except Exception as e:\n",
    "    print('Error found',e)\n",
    "rem = sum = 0    \n",
    "n = num       \n",
    "while(num > 0):    \n",
    "    rem = num%10   \n",
    "    sum = sum + rem    \n",
    "    num = num//10       \n",
    "if(n%sum == 0):    \n",
    "    print(str(n) + \" is a harshad number\")    \n",
    "else:    \n",
    "    print(str(n) + \" is not a harshad number\") "
   ]
  },
  {
   "cell_type": "code",
   "execution_count": 26,
   "metadata": {},
   "outputs": [
    {
     "name": "stdout",
     "output_type": "stream",
     "text": [
      "Pronic numbers between 1 and 100: \n",
      "2\n",
      "6\n",
      "12\n",
      "20\n",
      "30\n",
      "42\n",
      "56\n",
      "72\n",
      "90\n"
     ]
    }
   ],
   "source": [
    "#6 Write a Python program to print all pronic numbers between 1 and 100?\n",
    "\n",
    "def isPronicNumber(num):    \n",
    "    flag = False    \n",
    "    for j in range(1, num+1):     \n",
    "        if((j*(j+1)) == num):    \n",
    "            flag = True    \n",
    "            break    \n",
    "    return flag     \n",
    "print(\"Pronic numbers between 1 and 100: \");    \n",
    "for i in range(1, 101):    \n",
    "    if(isPronicNumber(i)):    \n",
    "        print(i)  "
   ]
  },
  {
   "cell_type": "markdown",
   "metadata": {},
   "source": [
    "# Python_Programming_Basic_Assignment10"
   ]
  },
  {
   "cell_type": "code",
   "execution_count": 57,
   "metadata": {},
   "outputs": [],
   "source": [
    "#1 Write a Python program to find sum of elements in list?\n",
    "\n",
    "NumList = []\n",
    "try:\n",
    "    Number = int(input(\"Please enter the Total Number of List Elements : \"))\n",
    "except Exception as e:\n",
    "    print('Error found',e)\n",
    "for i in range(1, Number + 1):\n",
    "    value = int(input(\"Please enter the Value of %d Element : \" %i))\n",
    "    NumList.append(value)\n",
    "\n",
    "total = sum(NumList)\n",
    "\n",
    "print(\"\\n The Sum of All Element in this List is : \", total)"
   ]
  },
  {
   "cell_type": "code",
   "execution_count": 58,
   "metadata": {},
   "outputs": [
    {
     "name": "stdout",
     "output_type": "stream",
     "text": [
      "6\n"
     ]
    }
   ],
   "source": [
    "#2 Write a Python program to Multiply all numbers in the list?\n",
    "\n",
    "def multiplyList(myList) :\n",
    "    result = 1\n",
    "    for x in myList:\n",
    "         result = result * x\n",
    "    return result\n",
    "list1 = [1, 2, 3]\n",
    "\n",
    "print(multiplyList(list1))"
   ]
  },
  {
   "cell_type": "code",
   "execution_count": 66,
   "metadata": {},
   "outputs": [
    {
     "name": "stdout",
     "output_type": "stream",
     "text": [
      "How many num to be added in list 5\n",
      "enter number 1 1\n",
      "enter number 2 7\n",
      "enter number 3 4\n",
      "enter number 4 5\n",
      "enter number 5 2\n",
      "The Smallest Element in this List is :  1\n"
     ]
    }
   ],
   "source": [
    "#3 Write a Python program to find smallest number in a list?\n",
    "list1=[]\n",
    "try:\n",
    "    a=int(input('How many num to be added in list '))\n",
    "    for i in range(a):\n",
    "        x=int(input('enter number {} '.format(i+1)))\n",
    "        list1.append(x)\n",
    "    print(\"The Smallest Element in this List is : \", min(list1))\n",
    "except Exception as e:\n",
    "    print('Error found',e)"
   ]
  },
  {
   "cell_type": "code",
   "execution_count": 68,
   "metadata": {},
   "outputs": [
    {
     "name": "stdout",
     "output_type": "stream",
     "text": [
      "How many num to be added in list 5\n",
      "enter number 1 11\n",
      "enter number 2 7\n",
      "enter number 3 8\n",
      "enter number 4 9\n",
      "enter number 5 22\n",
      "The largest Element in this List is :  22\n"
     ]
    }
   ],
   "source": [
    "#4 Write a Python program to find largest number in a list?\n",
    "\n",
    "list1=[]\n",
    "try:\n",
    "    a=int(input('How many num to be added in list '))\n",
    "    for i in range(a):\n",
    "        x=int(input('enter number {} '.format(i+1)))\n",
    "        list1.append(x)\n",
    "    print(\"The largest Element in this List is : \", max(list1))\n",
    "except Exception as e:\n",
    "    print('Error found',e)"
   ]
  },
  {
   "cell_type": "code",
   "execution_count": 70,
   "metadata": {},
   "outputs": [
    {
     "name": "stdout",
     "output_type": "stream",
     "text": [
      "Enter number of elements:5\n",
      "Enter element:8\n",
      "Enter element:6\n",
      "Enter element:3\n",
      "Enter element:2\n",
      "Enter element:9\n",
      "Second largest element is: 8\n"
     ]
    }
   ],
   "source": [
    "#5 Write a Python program to find second largest number in a list?\n",
    "\n",
    "a=[]\n",
    "n=int(input(\"Enter number of elements:\"))\n",
    "for i in range(1,n+1):\n",
    "    b=int(input(\"Enter element:\"))\n",
    "    a.append(b)\n",
    "a.sort()\n",
    "print(\"Second largest element is:\",a[n-2])"
   ]
  },
  {
   "cell_type": "code",
   "execution_count": 74,
   "metadata": {},
   "outputs": [
    {
     "name": "stdout",
     "output_type": "stream",
     "text": [
      "Enter number of elements:5\n",
      "Enter element:2\n",
      "Enter element:7\n",
      "Enter element:8\n",
      "Enter element:4\n",
      "Enter element:5\n",
      "largest elements is:  8\n"
     ]
    }
   ],
   "source": [
    "#6 Write a Python program to find N largest elements from a list?\n",
    "\n",
    "a=[]\n",
    "n=int(input(\"Enter number of elements:\"))\n",
    "for i in range(n):\n",
    "    b=int(input(\"Enter element:\"))\n",
    "    a.append(b)\n",
    "a.sort()\n",
    "\n",
    "print(\"largest elements is: \",a[n-1])\n"
   ]
  },
  {
   "cell_type": "code",
   "execution_count": 79,
   "metadata": {},
   "outputs": [
    {
     "name": "stdout",
     "output_type": "stream",
     "text": [
      " 2 is Even Number\n",
      " 4 is Even Number\n"
     ]
    }
   ],
   "source": [
    "#7 Write a Python program to print even numbers in a list?\n",
    "\n",
    "l=[1,2,3,4,5]\n",
    "for i in l:\n",
    "    if i%2==0:\n",
    "        print(' {} is Even Number'.format(i))"
   ]
  },
  {
   "cell_type": "code",
   "execution_count": 80,
   "metadata": {},
   "outputs": [
    {
     "name": "stdout",
     "output_type": "stream",
     "text": [
      " 1 is odd Number\n",
      " 3 is odd Number\n",
      " 5 is odd Number\n"
     ]
    }
   ],
   "source": [
    "#8 Write a Python program to print odd numbers in a List?\n",
    "\n",
    "l=[1,2,3,4,5]\n",
    "for i in l:\n",
    "    if i%2!=0:\n",
    "        print(' {} is odd Number'.format(i))"
   ]
  },
  {
   "cell_type": "code",
   "execution_count": 85,
   "metadata": {},
   "outputs": [
    {
     "name": "stdout",
     "output_type": "stream",
     "text": [
      "[[1, 2, 3], [1, 2], [1, 2, 3, 4]]\n"
     ]
    }
   ],
   "source": [
    "#9 Write a Python program to Remove empty List from List?\n",
    "\n",
    "lst = [[1, 2, 3], [1, 2], [], [], [], [1, 2, 3, 4], [], []]\n",
    "print(list(filter(lambda x: x, lst)))"
   ]
  },
  {
   "cell_type": "code",
   "execution_count": 86,
   "metadata": {},
   "outputs": [
    {
     "name": "stdout",
     "output_type": "stream",
     "text": [
      "Original List Items    =  [10, 20, 40, 60, 70]\n",
      "Original List Datatype =  <class 'list'>\n",
      "New List Items    =  [10, 20, 40, 60, 70]\n",
      "New List Datatype =  <class 'list'>\n"
     ]
    }
   ],
   "source": [
    "#10 Write a Python program to Cloning or Copying a list?\n",
    "\n",
    "orgList = [10, 20, 40, 60, 70]\n",
    "print(\"Original List Items    = \", orgList)\n",
    "print(\"Original List Datatype = \", type(orgList))\n",
    "newList = list(orgList)\n",
    "print(\"New List Items    = \", newList)\n",
    "print(\"New List Datatype = \", type(newList))"
   ]
  },
  {
   "cell_type": "code",
   "execution_count": 88,
   "metadata": {},
   "outputs": [
    {
     "name": "stdout",
     "output_type": "stream",
     "text": [
      "count=3\n"
     ]
    }
   ],
   "source": [
    "#11 Write a Python program to Count occurrences of an element in a list?\n",
    "\n",
    "items = ['abc', 'acb', 'bca', 'abc', 'dac', 'acd', 'dac', 'bac', 'abc', 'acb']\n",
    "count = items.count('abc')\n",
    "print(f'{count=}')"
   ]
  },
  {
   "cell_type": "code",
   "execution_count": null,
   "metadata": {},
   "outputs": [],
   "source": []
  }
 ],
 "metadata": {
  "kernelspec": {
   "display_name": "Python 3",
   "language": "python",
   "name": "python3"
  },
  "language_info": {
   "codemirror_mode": {
    "name": "ipython",
    "version": 3
   },
   "file_extension": ".py",
   "mimetype": "text/x-python",
   "name": "python",
   "nbconvert_exporter": "python",
   "pygments_lexer": "ipython3",
   "version": "3.8.5"
  }
 },
 "nbformat": 4,
 "nbformat_minor": 4
}
